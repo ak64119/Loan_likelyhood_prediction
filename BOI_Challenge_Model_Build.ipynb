{
 "cells": [
  {
   "cell_type": "markdown",
   "metadata": {},
   "source": [
    "## Loan Purchase dataset: Machine Learning Model build\n",
    "\n",
    "In the following cells, we will finally build our machine learning models, utilising the engineered data and the pre-selected features. "
   ]
  },
  {
   "cell_type": "code",
   "execution_count": 55,
   "metadata": {},
   "outputs": [],
   "source": [
    "# to handle datasets\n",
    "import pandas as pd\n",
    "import numpy as np\n",
    "import os\n",
    "\n",
    "# for plotting\n",
    "import matplotlib.pyplot as plt\n",
    "%matplotlib inline\n",
    "\n",
    "# to divide train and test set\n",
    "from sklearn.model_selection import train_test_split\n",
    "\n",
    "# to build the models\n",
    "from sklearn.linear_model import LogisticRegression\n",
    "\n",
    "# to evaluate the models\n",
    "from sklearn.metrics import confusion_matrix\n",
    "from sklearn.metrics import classification_report\n",
    "from sklearn.metrics import roc_auc_score\n",
    "from sklearn.metrics import roc_curve\n",
    "\n",
    "# to visualise al the columns in the dataframe\n",
    "pd.pandas.set_option('display.max_columns', None)\n",
    "\n",
    "# hide all warnings\n",
    "import warnings\n",
    "warnings.filterwarnings('ignore')"
   ]
  },
  {
   "cell_type": "code",
   "execution_count": 12,
   "metadata": {},
   "outputs": [
    {
     "name": "stdout",
     "output_type": "stream",
     "text": [
      "(9914, 11)\n"
     ]
    },
    {
     "data": {
      "text/html": [
       "<div>\n",
       "<style scoped>\n",
       "    .dataframe tbody tr th:only-of-type {\n",
       "        vertical-align: middle;\n",
       "    }\n",
       "\n",
       "    .dataframe tbody tr th {\n",
       "        vertical-align: top;\n",
       "    }\n",
       "\n",
       "    .dataframe thead th {\n",
       "        text-align: right;\n",
       "    }\n",
       "</style>\n",
       "<table border=\"1\" class=\"dataframe\">\n",
       "  <thead>\n",
       "    <tr style=\"text-align: right;\">\n",
       "      <th></th>\n",
       "      <th>Client_ID</th>\n",
       "      <th>Prod_Held_Count</th>\n",
       "      <th>Prv_Loan_Flag</th>\n",
       "      <th>Num_txns</th>\n",
       "      <th>Lst_txn_amt</th>\n",
       "      <th>Loan_Flag</th>\n",
       "      <th>Gender_lbl</th>\n",
       "      <th>Province_lbl</th>\n",
       "      <th>Income_Grp_lbl</th>\n",
       "      <th>Age_Grp_lbl</th>\n",
       "      <th>Avg_CA_txn_amt_grp_lbl</th>\n",
       "    </tr>\n",
       "  </thead>\n",
       "  <tbody>\n",
       "    <tr>\n",
       "      <th>0</th>\n",
       "      <td>1</td>\n",
       "      <td>4</td>\n",
       "      <td>1</td>\n",
       "      <td>0.00</td>\n",
       "      <td>0.498974</td>\n",
       "      <td>0</td>\n",
       "      <td>1</td>\n",
       "      <td>2</td>\n",
       "      <td>2</td>\n",
       "      <td>2</td>\n",
       "      <td>1</td>\n",
       "    </tr>\n",
       "    <tr>\n",
       "      <th>1</th>\n",
       "      <td>2</td>\n",
       "      <td>4</td>\n",
       "      <td>0</td>\n",
       "      <td>0.17</td>\n",
       "      <td>0.087504</td>\n",
       "      <td>0</td>\n",
       "      <td>1</td>\n",
       "      <td>4</td>\n",
       "      <td>1</td>\n",
       "      <td>2</td>\n",
       "      <td>3</td>\n",
       "    </tr>\n",
       "    <tr>\n",
       "      <th>2</th>\n",
       "      <td>3</td>\n",
       "      <td>2</td>\n",
       "      <td>0</td>\n",
       "      <td>0.25</td>\n",
       "      <td>0.582233</td>\n",
       "      <td>0</td>\n",
       "      <td>0</td>\n",
       "      <td>1</td>\n",
       "      <td>2</td>\n",
       "      <td>2</td>\n",
       "      <td>1</td>\n",
       "    </tr>\n",
       "    <tr>\n",
       "      <th>3</th>\n",
       "      <td>4</td>\n",
       "      <td>2</td>\n",
       "      <td>1</td>\n",
       "      <td>0.13</td>\n",
       "      <td>0.072993</td>\n",
       "      <td>0</td>\n",
       "      <td>1</td>\n",
       "      <td>1</td>\n",
       "      <td>3</td>\n",
       "      <td>3</td>\n",
       "      <td>1</td>\n",
       "    </tr>\n",
       "    <tr>\n",
       "      <th>4</th>\n",
       "      <td>5</td>\n",
       "      <td>1</td>\n",
       "      <td>0</td>\n",
       "      <td>0.39</td>\n",
       "      <td>0.283609</td>\n",
       "      <td>0</td>\n",
       "      <td>0</td>\n",
       "      <td>1</td>\n",
       "      <td>4</td>\n",
       "      <td>4</td>\n",
       "      <td>1</td>\n",
       "    </tr>\n",
       "  </tbody>\n",
       "</table>\n",
       "</div>"
      ],
      "text/plain": [
       "   Client_ID  Prod_Held_Count  Prv_Loan_Flag  Num_txns  Lst_txn_amt  \\\n",
       "0          1                4              1      0.00     0.498974   \n",
       "1          2                4              0      0.17     0.087504   \n",
       "2          3                2              0      0.25     0.582233   \n",
       "3          4                2              1      0.13     0.072993   \n",
       "4          5                1              0      0.39     0.283609   \n",
       "\n",
       "   Loan_Flag  Gender_lbl  Province_lbl  Income_Grp_lbl  Age_Grp_lbl  \\\n",
       "0          0           1             2               2            2   \n",
       "1          0           1             4               1            2   \n",
       "2          0           0             1               2            2   \n",
       "3          0           1             1               3            3   \n",
       "4          0           0             1               4            4   \n",
       "\n",
       "   Avg_CA_txn_amt_grp_lbl  \n",
       "0                       1  \n",
       "1                       3  \n",
       "2                       1  \n",
       "3                       1  \n",
       "4                       1  "
      ]
     },
     "execution_count": 12,
     "metadata": {},
     "output_type": "execute_result"
    }
   ],
   "source": [
    "#Creating base model\n",
    "\n",
    "# load dataset\n",
    "data = pd.read_csv('xtrain.csv')\n",
    "print(data.shape)\n",
    "data.head()"
   ]
  },
  {
   "cell_type": "code",
   "execution_count": 62,
   "metadata": {},
   "outputs": [
    {
     "data": {
      "text/plain": [
       "((6939, 11), (2975, 11))"
      ]
     },
     "execution_count": 62,
     "metadata": {},
     "output_type": "execute_result"
    }
   ],
   "source": [
    "# Let's separate into train and test set\n",
    "# Remember to set the seed (random_state for this sklearn function)\n",
    "\n",
    "base_X_train, base_X_test, base_y_train, base_y_test = train_test_split(data, data.Loan_Flag,\n",
    "                                                    test_size=0.3,\n",
    "                                                    random_state=0,shuffle=False) # we are setting the seed here\n",
    "base_X_train.shape, base_X_test.shape"
   ]
  },
  {
   "cell_type": "code",
   "execution_count": 31,
   "metadata": {},
   "outputs": [],
   "source": [
    "# Creating function to run and evaluate base model combination with model run by selecting\n",
    "#best predictor variable\n",
    "\n",
    "def trn_n_tst_model(x_train,x_test,y_train,y_test):\n",
    "    X_train_mdl=x_train\n",
    "    X_test_mdl=x_test\n",
    "    Y_train_mdl=y_train\n",
    "    Y_test_mdl=y_test\n",
    "    \n",
    "    #Logistic Regression Model Fitting \n",
    "    logreg = LogisticRegression()\n",
    "    logreg.fit(X_train_mdl, Y_train_mdl)\n",
    "    \n",
    "    y_pred_mdl = logreg.predict(X_test_mdl)\n",
    "    print('Accuracy of logistic regression classifier on test set: {:.2f}'.format(logreg.score(X_test_mdl,Y_test_mdl)))\n",
    "    print(\" \")\n",
    "    print(\" \")\n",
    "    \n",
    "    print(\"Confusion Matrix:\")\n",
    "    print(confusion_matrix(Y_test_mdl, y_pred_mdl))\n",
    "    print(\" \")\n",
    "    print(\" \")\n",
    "    \n",
    "    print(\"Classification Report:\")\n",
    "    print(classification_report(Y_test_mdl, y_pred_mdl))\n",
    "    print(\" \")\n",
    "    print(\" \")\n",
    "    \n",
    "    logit_roc_auc = roc_auc_score(Y_test_mdl, logreg.predict(X_test_mdl))\n",
    "    fpr, tpr, thresholds = roc_curve(Y_test_mdl, logreg.predict_proba(X_test_mdl)[:,1])\n",
    "    plt.figure()\n",
    "    plt.plot(fpr, tpr, label='Logistic Regression (area = %0.2f)' % logit_roc_auc)\n",
    "    plt.plot([0, 1], [0, 1],'r--')\n",
    "    plt.xlim([0.0, 1.0])\n",
    "    plt.ylim([0.0, 1.05])\n",
    "    plt.xlabel('False Positive Rate')\n",
    "    plt.ylabel('True Positive Rate')\n",
    "    plt.title('Receiver operating characteristic')\n",
    "    plt.legend(loc=\"lower right\")\n",
    "    plt.savefig('Log_ROC')\n",
    "    plt.show()\n"
   ]
  },
  {
   "cell_type": "code",
   "execution_count": 38,
   "metadata": {},
   "outputs": [
    {
     "name": "stderr",
     "output_type": "stream",
     "text": [
      "C:\\Users\\aksha\\Anaconda3\\lib\\site-packages\\sklearn\\linear_model\\logistic.py:433: FutureWarning: Default solver will be changed to 'lbfgs' in 0.22. Specify a solver to silence this warning.\n",
      "  FutureWarning)\n"
     ]
    },
    {
     "name": "stdout",
     "output_type": "stream",
     "text": [
      "Accuracy of logistic regression classifier on test set: 0.99\n",
      " \n",
      " \n",
      "Confusion Matrix:\n",
      "[[2920    1]\n",
      " [  37   17]]\n",
      " \n",
      " \n",
      "Classification Report:\n",
      "              precision    recall  f1-score   support\n",
      "\n",
      "           0       0.99      1.00      0.99      2921\n",
      "           1       0.94      0.31      0.47        54\n",
      "\n",
      "   micro avg       0.99      0.99      0.99      2975\n",
      "   macro avg       0.97      0.66      0.73      2975\n",
      "weighted avg       0.99      0.99      0.98      2975\n",
      "\n",
      " \n",
      " \n"
     ]
    },
    {
     "data": {
      "image/png": "[encoded data removed]",
      "text/plain": [
       "<Figure size 432x288 with 1 Axes>"
      ]
     },
     "metadata": {
      "needs_background": "light"
     },
     "output_type": "display_data"
    }
   ],
   "source": [
    "#Run the base model with all the variables.\n",
    "\n",
    "# capture the target\n",
    "base_y_train = base_X_train['Loan_Flag']\n",
    "base_y_test = base_X_test['Loan_Flag']\n",
    "\n",
    "base_X_train = base_X_train.drop(['Client_ID','Loan_Flag'], axis = 1)\n",
    "base_X_test = base_X_test.drop(['Client_ID','Loan_Flag'], axis = 1)\n",
    "\n",
    "trn_n_tst_model(base_X_train,base_X_test,base_y_train,base_y_test)"
   ]
  },
  {
   "cell_type": "code",
   "execution_count": 56,
   "metadata": {},
   "outputs": [
    {
     "name": "stdout",
     "output_type": "stream",
     "text": [
      "Accuracy of logistic regression classifier on test set: 0.98\n",
      " \n",
      " \n",
      "Confusion Matrix:\n",
      "[[2921    0]\n",
      " [  54    0]]\n",
      " \n",
      " \n",
      "Classification Report:\n",
      "              precision    recall  f1-score   support\n",
      "\n",
      "           0       0.98      1.00      0.99      2921\n",
      "           1       0.00      0.00      0.00        54\n",
      "\n",
      "   micro avg       0.98      0.98      0.98      2975\n",
      "   macro avg       0.49      0.50      0.50      2975\n",
      "weighted avg       0.96      0.98      0.97      2975\n",
      "\n",
      " \n",
      " \n"
     ]
    },
    {
     "data": {
      "image/png": "[encoded data removed]",
      "text/plain": [
       "<Figure size 432x288 with 1 Axes>"
      ]
     },
     "metadata": {
      "needs_background": "light"
     },
     "output_type": "display_data"
    }
   ],
   "source": [
    "#Run the model with best selected variables\n",
    "# capture the target\n",
    "\n",
    "base_y_train = base_X_train['Loan_Flag']\n",
    "base_y_test = base_X_test['Loan_Flag']\n",
    "\n",
    "base_X_train = base_X_train[features]\n",
    "base_X_test = base_X_test[features]\n",
    "\n",
    "trn_n_tst_model(base_X_train,base_X_test,base_y_train,base_y_test)"
   ]
  },
  {
   "cell_type": "code",
   "execution_count": 61,
   "metadata": {},
   "outputs": [
    {
     "name": "stdout",
     "output_type": "stream",
     "text": [
      "Accuracy of logistic regression classifier on test set: 0.99\n",
      " \n",
      " \n",
      "Confusion Matrix:\n",
      "[[2921    0]\n",
      " [  36   18]]\n",
      " \n",
      " \n",
      "Classification Report:\n",
      "              precision    recall  f1-score   support\n",
      "\n",
      "           0       0.99      1.00      0.99      2921\n",
      "           1       1.00      0.33      0.50        54\n",
      "\n",
      "   micro avg       0.99      0.99      0.99      2975\n",
      "   macro avg       0.99      0.67      0.75      2975\n",
      "weighted avg       0.99      0.99      0.98      2975\n",
      "\n",
      " \n",
      " \n"
     ]
    },
    {
     "data": {
      "image/png": "[encoded data removed]",
      "text/plain": [
       "<Figure size 432x288 with 1 Axes>"
      ]
     },
     "metadata": {
      "needs_background": "light"
     },
     "output_type": "display_data"
    }
   ],
   "source": [
    "#Run the model with best top 5 best selected variables based on decreasing IV values\n",
    "\n",
    "# capture the target\n",
    "base_y_train = base_X_train['Loan_Flag']\n",
    "base_y_test = base_X_test['Loan_Flag']\n",
    "\n",
    "base_X_train = base_X_train[features+['Prv_Loan_Flag','Num_txns']]\n",
    "base_X_test = base_X_test[features+['Prv_Loan_Flag','Num_txns']]\n",
    "\n",
    "trn_n_tst_model(base_X_train,base_X_test,base_y_train,base_y_test)"
   ]
  },
  {
   "cell_type": "code",
   "execution_count": 69,
   "metadata": {},
   "outputs": [
    {
     "name": "stdout",
     "output_type": "stream",
     "text": [
      "Accuracy of logistic regression classifier on test set: 0.99\n",
      " \n",
      " \n",
      "Confusion Matrix:\n",
      "[[2920    1]\n",
      " [  37   17]]\n",
      " \n",
      " \n",
      "Classification Report:\n",
      "              precision    recall  f1-score   support\n",
      "\n",
      "           0       0.99      1.00      0.99      2921\n",
      "           1       0.94      0.31      0.47        54\n",
      "\n",
      "   micro avg       0.99      0.99      0.99      2975\n",
      "   macro avg       0.97      0.66      0.73      2975\n",
      "weighted avg       0.99      0.99      0.98      2975\n",
      "\n",
      " \n",
      " \n"
     ]
    },
    {
     "data": {
      "image/png": "[encoded data removed]",
      "text/plain": [
       "<Figure size 432x288 with 1 Axes>"
      ]
     },
     "metadata": {
      "needs_background": "light"
     },
     "output_type": "display_data"
    }
   ],
   "source": [
    "#Run the model with best top 3 best selected variables based on decreasing IV values\n",
    "\n",
    "# capture the target\n",
    "base_y_train = base_X_train['Loan_Flag']\n",
    "base_y_test = base_X_test['Loan_Flag']\n",
    "\n",
    "base_X_train = base_X_train[['Prv_Loan_Flag', 'Num_txns', 'Avg_CA_txn_amt_grp_lbl']]\n",
    "base_X_test = base_X_test[['Prv_Loan_Flag', 'Num_txns', 'Avg_CA_txn_amt_grp_lbl']]\n",
    "\n",
    "trn_n_tst_model(base_X_train,base_X_test,base_y_train,base_y_test)"
   ]
  },
  {
   "cell_type": "code",
   "execution_count": 105,
   "metadata": {},
   "outputs": [
    {
     "data": {
      "text/plain": [
       "(1711, 5)"
      ]
     },
     "execution_count": 105,
     "metadata": {},
     "output_type": "execute_result"
    }
   ],
   "source": [
    "# load dataset\n",
    "# We  load the datasets with the engineered values: we built and saved this datasets in a previous sheet.\n",
    "\n",
    "# Set Directory\n",
    "os.chdir('C:/Users/aksha/Desktop/BOI_Challenge/')\n",
    "\n",
    "X_train = pd.read_csv('xtrain.csv')\n",
    "X_test = pd.read_csv('xtest.csv')"
   ]
  },
  {
   "cell_type": "code",
   "execution_count": 86,
   "metadata": {},
   "outputs": [],
   "source": [
    "# capture the target\n",
    "y_train = X_train['Loan_Flag']"
   ]
  },
  {
   "cell_type": "code",
   "execution_count": 80,
   "metadata": {},
   "outputs": [
    {
     "data": {
      "text/plain": [
       "['Avg_CA_txn_amt_grp_lbl',\n",
       " 'Lst_txn_amt',\n",
       " 'Prod_Held_Count',\n",
       " 'Prv_Loan_Flag',\n",
       " 'Num_txns']"
      ]
     },
     "execution_count": 80,
     "metadata": {},
     "output_type": "execute_result"
    }
   ],
   "source": [
    "# load selected features\n",
    "\n",
    "features = pd.read_csv('slctd_feat_IV_WOE.csv', header=None)\n",
    "features = [x for x in features[0]] \n",
    "\n",
    "#Adding above two features based on test results\n",
    "features = features + ['Prv_Loan_Flag','Num_txns']\n",
    "features"
   ]
  },
  {
   "cell_type": "code",
   "execution_count": 83,
   "metadata": {},
   "outputs": [
    {
     "data": {
      "text/html": [
       "<div>\n",
       "<style scoped>\n",
       "    .dataframe tbody tr th:only-of-type {\n",
       "        vertical-align: middle;\n",
       "    }\n",
       "\n",
       "    .dataframe tbody tr th {\n",
       "        vertical-align: top;\n",
       "    }\n",
       "\n",
       "    .dataframe thead th {\n",
       "        text-align: right;\n",
       "    }\n",
       "</style>\n",
       "<table border=\"1\" class=\"dataframe\">\n",
       "  <thead>\n",
       "    <tr style=\"text-align: right;\">\n",
       "      <th></th>\n",
       "      <th>Avg_CA_txn_amt_grp_lbl</th>\n",
       "      <th>Lst_txn_amt</th>\n",
       "      <th>Prod_Held_Count</th>\n",
       "      <th>Prv_Loan_Flag</th>\n",
       "      <th>Num_txns</th>\n",
       "    </tr>\n",
       "  </thead>\n",
       "  <tbody>\n",
       "    <tr>\n",
       "      <th>0</th>\n",
       "      <td>1</td>\n",
       "      <td>0.008049</td>\n",
       "      <td>4</td>\n",
       "      <td>0</td>\n",
       "      <td>0.02</td>\n",
       "    </tr>\n",
       "    <tr>\n",
       "      <th>1</th>\n",
       "      <td>1</td>\n",
       "      <td>0.027513</td>\n",
       "      <td>4</td>\n",
       "      <td>0</td>\n",
       "      <td>0.00</td>\n",
       "    </tr>\n",
       "    <tr>\n",
       "      <th>2</th>\n",
       "      <td>1</td>\n",
       "      <td>1.115320</td>\n",
       "      <td>2</td>\n",
       "      <td>0</td>\n",
       "      <td>0.28</td>\n",
       "    </tr>\n",
       "    <tr>\n",
       "      <th>3</th>\n",
       "      <td>1</td>\n",
       "      <td>0.970251</td>\n",
       "      <td>2</td>\n",
       "      <td>0</td>\n",
       "      <td>0.31</td>\n",
       "    </tr>\n",
       "    <tr>\n",
       "      <th>4</th>\n",
       "      <td>1</td>\n",
       "      <td>1.030062</td>\n",
       "      <td>1</td>\n",
       "      <td>0</td>\n",
       "      <td>0.12</td>\n",
       "    </tr>\n",
       "  </tbody>\n",
       "</table>\n",
       "</div>"
      ],
      "text/plain": [
       "   Avg_CA_txn_amt_grp_lbl  Lst_txn_amt  Prod_Held_Count  Prv_Loan_Flag  \\\n",
       "0                       1     0.008049                4              0   \n",
       "1                       1     0.027513                4              0   \n",
       "2                       1     1.115320                2              0   \n",
       "3                       1     0.970251                2              0   \n",
       "4                       1     1.030062                1              0   \n",
       "\n",
       "   Num_txns  \n",
       "0      0.02  \n",
       "1      0.00  \n",
       "2      0.28  \n",
       "3      0.31  \n",
       "4      0.12  "
      ]
     },
     "execution_count": 83,
     "metadata": {},
     "output_type": "execute_result"
    }
   ],
   "source": [
    "# reduce the train and test set to the desired features\n",
    "\n",
    "X_train = X_train[features]\n",
    "X_test = X_test[features]\n"
   ]
  },
  {
   "cell_type": "code",
   "execution_count": 89,
   "metadata": {},
   "outputs": [],
   "source": [
    "# Creating function to run and evaluate base model combination with model run by selecting\n",
    "#best predictor variable\n",
    "\n",
    "#Logistic Regression Model Fitting \n",
    "logreg = LogisticRegression()\n",
    "logreg.fit(X_train,y_train)\n",
    "    \n",
    "y_pred_mdl = logreg.predict(X_test)  "
   ]
  },
  {
   "cell_type": "code",
   "execution_count": 101,
   "metadata": {
    "collapsed": true
   },
   "outputs": [],
   "source": [
    "df_pred_Y = pd.DataFrame(data=y_pred_mdl,columns=['Loan_Flag'])"
   ]
  },
  {
   "cell_type": "code",
   "execution_count": 117,
   "metadata": {},
   "outputs": [
    {
     "data": {
      "text/html": [
       "<div>\n",
       "<style scoped>\n",
       "    .dataframe tbody tr th:only-of-type {\n",
       "        vertical-align: middle;\n",
       "    }\n",
       "\n",
       "    .dataframe tbody tr th {\n",
       "        vertical-align: top;\n",
       "    }\n",
       "\n",
       "    .dataframe thead th {\n",
       "        text-align: right;\n",
       "    }\n",
       "</style>\n",
       "<table border=\"1\" class=\"dataframe\">\n",
       "  <thead>\n",
       "    <tr style=\"text-align: right;\">\n",
       "      <th></th>\n",
       "      <th>Avg_CA_txn_amt_grp_lbl</th>\n",
       "      <th>Lst_txn_amt</th>\n",
       "      <th>Prod_Held_Count</th>\n",
       "      <th>Prv_Loan_Flag</th>\n",
       "      <th>Num_txns</th>\n",
       "      <th>Loan_Flag</th>\n",
       "    </tr>\n",
       "  </thead>\n",
       "  <tbody>\n",
       "    <tr>\n",
       "      <th>0</th>\n",
       "      <td>1</td>\n",
       "      <td>0.008049</td>\n",
       "      <td>4</td>\n",
       "      <td>0</td>\n",
       "      <td>0.02</td>\n",
       "      <td>0</td>\n",
       "    </tr>\n",
       "    <tr>\n",
       "      <th>1</th>\n",
       "      <td>1</td>\n",
       "      <td>0.027513</td>\n",
       "      <td>4</td>\n",
       "      <td>0</td>\n",
       "      <td>0.00</td>\n",
       "      <td>0</td>\n",
       "    </tr>\n",
       "    <tr>\n",
       "      <th>2</th>\n",
       "      <td>1</td>\n",
       "      <td>1.115320</td>\n",
       "      <td>2</td>\n",
       "      <td>0</td>\n",
       "      <td>0.28</td>\n",
       "      <td>0</td>\n",
       "    </tr>\n",
       "    <tr>\n",
       "      <th>3</th>\n",
       "      <td>1</td>\n",
       "      <td>0.970251</td>\n",
       "      <td>2</td>\n",
       "      <td>0</td>\n",
       "      <td>0.31</td>\n",
       "      <td>0</td>\n",
       "    </tr>\n",
       "    <tr>\n",
       "      <th>4</th>\n",
       "      <td>1</td>\n",
       "      <td>1.030062</td>\n",
       "      <td>1</td>\n",
       "      <td>0</td>\n",
       "      <td>0.12</td>\n",
       "      <td>0</td>\n",
       "    </tr>\n",
       "  </tbody>\n",
       "</table>\n",
       "</div>"
      ],
      "text/plain": [
       "   Avg_CA_txn_amt_grp_lbl  Lst_txn_amt  Prod_Held_Count  Prv_Loan_Flag  \\\n",
       "0                       1     0.008049                4              0   \n",
       "1                       1     0.027513                4              0   \n",
       "2                       1     1.115320                2              0   \n",
       "3                       1     0.970251                2              0   \n",
       "4                       1     1.030062                1              0   \n",
       "\n",
       "   Num_txns  Loan_Flag  \n",
       "0      0.02          0  \n",
       "1      0.00          0  \n",
       "2      0.28          0  \n",
       "3      0.31          0  \n",
       "4      0.12          0  "
      ]
     },
     "execution_count": 117,
     "metadata": {},
     "output_type": "execute_result"
    }
   ],
   "source": [
    "#Concatenating 'Predicted Y values to X_Test data_frame'\n",
    "\n",
    "#Creating Index\n",
    "df_pred_Y['index1'] = df_pred_Y.index\n",
    "X_test['index1'] = X_test.index\n",
    "\n",
    "#Concatenate Data_Frame\n",
    "X_test_final = X_test.merge(df_pred_Y, how = 'inner', on = ['index1'])\n",
    "X_test_final = X_test_final.drop(['index1'], axis = 1)\n"
   ]
  },
  {
   "cell_type": "code",
   "execution_count": 104,
   "metadata": {},
   "outputs": [],
   "source": [
    "df_pred_Y.to_csv('y_predicted.csv', index=False)"
   ]
  },
  {
   "cell_type": "markdown",
   "metadata": {},
   "source": [
    "**Create Buckets**\n",
    "I am creating buckets of very high likelyhood to very low likelyhood based on the occurence percentage of target variable 'Loan_Flag' = 1'. The segments are created on variables selected by Information value."
   ]
  },
  {
   "cell_type": "code",
   "execution_count": 121,
   "metadata": {},
   "outputs": [
    {
     "data": {
      "text/html": [
       "<div>\n",
       "<style scoped>\n",
       "    .dataframe tbody tr th:only-of-type {\n",
       "        vertical-align: middle;\n",
       "    }\n",
       "\n",
       "    .dataframe tbody tr th {\n",
       "        vertical-align: top;\n",
       "    }\n",
       "\n",
       "    .dataframe thead th {\n",
       "        text-align: right;\n",
       "    }\n",
       "</style>\n",
       "<table border=\"1\" class=\"dataframe\">\n",
       "  <thead>\n",
       "    <tr style=\"text-align: right;\">\n",
       "      <th></th>\n",
       "      <th>Avg_CA_txn_amt_grp_lbl</th>\n",
       "      <th>Lst_txn_amt</th>\n",
       "      <th>Prod_Held_Count</th>\n",
       "      <th>Prv_Loan_Flag</th>\n",
       "      <th>Num_txns</th>\n",
       "      <th>Loan_Flag</th>\n",
       "    </tr>\n",
       "  </thead>\n",
       "  <tbody>\n",
       "    <tr>\n",
       "      <th>0</th>\n",
       "      <td>1</td>\n",
       "      <td>0.498974</td>\n",
       "      <td>4</td>\n",
       "      <td>1</td>\n",
       "      <td>0.00</td>\n",
       "      <td>0</td>\n",
       "    </tr>\n",
       "    <tr>\n",
       "      <th>1</th>\n",
       "      <td>3</td>\n",
       "      <td>0.087504</td>\n",
       "      <td>4</td>\n",
       "      <td>0</td>\n",
       "      <td>0.17</td>\n",
       "      <td>0</td>\n",
       "    </tr>\n",
       "    <tr>\n",
       "      <th>2</th>\n",
       "      <td>1</td>\n",
       "      <td>0.582233</td>\n",
       "      <td>2</td>\n",
       "      <td>0</td>\n",
       "      <td>0.25</td>\n",
       "      <td>0</td>\n",
       "    </tr>\n",
       "    <tr>\n",
       "      <th>3</th>\n",
       "      <td>1</td>\n",
       "      <td>0.072993</td>\n",
       "      <td>2</td>\n",
       "      <td>1</td>\n",
       "      <td>0.13</td>\n",
       "      <td>0</td>\n",
       "    </tr>\n",
       "    <tr>\n",
       "      <th>4</th>\n",
       "      <td>1</td>\n",
       "      <td>0.283609</td>\n",
       "      <td>1</td>\n",
       "      <td>0</td>\n",
       "      <td>0.39</td>\n",
       "      <td>0</td>\n",
       "    </tr>\n",
       "  </tbody>\n",
       "</table>\n",
       "</div>"
      ],
      "text/plain": [
       "   Avg_CA_txn_amt_grp_lbl  Lst_txn_amt  Prod_Held_Count  Prv_Loan_Flag  \\\n",
       "0                       1     0.498974                4              1   \n",
       "1                       3     0.087504                4              0   \n",
       "2                       1     0.582233                2              0   \n",
       "3                       1     0.072993                2              1   \n",
       "4                       1     0.283609                1              0   \n",
       "\n",
       "   Num_txns  Loan_Flag  \n",
       "0      0.00          0  \n",
       "1      0.17          0  \n",
       "2      0.25          0  \n",
       "3      0.13          0  \n",
       "4      0.39          0  "
      ]
     },
     "execution_count": 121,
     "metadata": {},
     "output_type": "execute_result"
    }
   ],
   "source": [
    "X_train_count = pd.read_csv('xtrain.csv')\n",
    "features_new = features+['Loan_Flag']\n",
    "X_train_count_df = X_train_count[features_new]\n",
    "X_train_count_df.head()"
   ]
  },
  {
   "cell_type": "code",
   "execution_count": 122,
   "metadata": {},
   "outputs": [
    {
     "data": {
      "text/html": [
       "<div>\n",
       "<style scoped>\n",
       "    .dataframe tbody tr th:only-of-type {\n",
       "        vertical-align: middle;\n",
       "    }\n",
       "\n",
       "    .dataframe tbody tr th {\n",
       "        vertical-align: top;\n",
       "    }\n",
       "\n",
       "    .dataframe thead th {\n",
       "        text-align: right;\n",
       "    }\n",
       "</style>\n",
       "<table border=\"1\" class=\"dataframe\">\n",
       "  <thead>\n",
       "    <tr style=\"text-align: right;\">\n",
       "      <th>col_0</th>\n",
       "      <th>count</th>\n",
       "    </tr>\n",
       "    <tr>\n",
       "      <th>Loan_Flag</th>\n",
       "      <th></th>\n",
       "    </tr>\n",
       "  </thead>\n",
       "  <tbody>\n",
       "    <tr>\n",
       "      <th>0</th>\n",
       "      <td>0.983559</td>\n",
       "    </tr>\n",
       "    <tr>\n",
       "      <th>1</th>\n",
       "      <td>0.016441</td>\n",
       "    </tr>\n",
       "  </tbody>\n",
       "</table>\n",
       "</div>"
      ],
      "text/plain": [
       "col_0         count\n",
       "Loan_Flag          \n",
       "0          0.983559\n",
       "1          0.016441"
      ]
     },
     "execution_count": 122,
     "metadata": {},
     "output_type": "execute_result"
    }
   ],
   "source": [
    "# Number of people who took loan\n",
    "pd.crosstab(X_train_count_df['Loan_Flag'], columns = 'count', normalize = True)"
   ]
  },
  {
   "cell_type": "markdown",
   "metadata": {},
   "source": [
    "We have to take the values for which the loan was taken,ie, loan_flag = 1 to know the likelyhood column wise"
   ]
  },
  {
   "cell_type": "code",
   "execution_count": 132,
   "metadata": {},
   "outputs": [
    {
     "data": {
      "text/html": [
       "<div>\n",
       "<style scoped>\n",
       "    .dataframe tbody tr th:only-of-type {\n",
       "        vertical-align: middle;\n",
       "    }\n",
       "\n",
       "    .dataframe tbody tr th {\n",
       "        vertical-align: top;\n",
       "    }\n",
       "\n",
       "    .dataframe thead th {\n",
       "        text-align: right;\n",
       "    }\n",
       "</style>\n",
       "<table border=\"1\" class=\"dataframe\">\n",
       "  <thead>\n",
       "    <tr style=\"text-align: right;\">\n",
       "      <th>col_0</th>\n",
       "      <th>count</th>\n",
       "    </tr>\n",
       "    <tr>\n",
       "      <th>Num_txns_Grp</th>\n",
       "      <th></th>\n",
       "    </tr>\n",
       "  </thead>\n",
       "  <tbody>\n",
       "    <tr>\n",
       "      <th>&lt;25</th>\n",
       "      <td>0.030675</td>\n",
       "    </tr>\n",
       "    <tr>\n",
       "      <th>26-50</th>\n",
       "      <td>0.128834</td>\n",
       "    </tr>\n",
       "    <tr>\n",
       "      <th>51-75</th>\n",
       "      <td>0.165644</td>\n",
       "    </tr>\n",
       "    <tr>\n",
       "      <th>76-100</th>\n",
       "      <td>0.674847</td>\n",
       "    </tr>\n",
       "  </tbody>\n",
       "</table>\n",
       "</div>"
      ],
      "text/plain": [
       "col_0            count\n",
       "Num_txns_Grp          \n",
       "<25           0.030675\n",
       "26-50         0.128834\n",
       "51-75         0.165644\n",
       "76-100        0.674847"
      ]
     },
     "execution_count": 132,
     "metadata": {},
     "output_type": "execute_result"
    }
   ],
   "source": [
    "# Num_txns is the best predictor variable based on information value\n",
    "X_trn_Loan1 = X_train_count_df[X_train_count_df[\"Loan_Flag\"] == 1]\n",
    "\n",
    "#Creating category for number of transactions\n",
    "X_trn_Loan1['Num_txns_Grp'] = pd.cut(x=X_trn_Loan1['Num_txns'], bins=[-0.10,0.25, 0.50, 0.75, 1.00], labels=['<25', '26-50', '51-75','76-100'])\n",
    "\n",
    "#Calculating Proportion of each variable\n",
    "pd.crosstab(X_trn_Loan1['Num_txns_Grp'], columns = 'count', normalize = True)"
   ]
  },
  {
   "cell_type": "markdown",
   "metadata": {},
   "source": [
    "From the above cell, we can see that 'Num of Txns' of 76-100 contributed the most to loan likelyhood, i.e., around 67%. We will segment '76-100' Number of transactions "
   ]
  },
  {
   "cell_type": "code",
   "execution_count": 136,
   "metadata": {},
   "outputs": [
    {
     "data": {
      "text/html": [
       "<div>\n",
       "<style scoped>\n",
       "    .dataframe tbody tr th:only-of-type {\n",
       "        vertical-align: middle;\n",
       "    }\n",
       "\n",
       "    .dataframe tbody tr th {\n",
       "        vertical-align: top;\n",
       "    }\n",
       "\n",
       "    .dataframe thead th {\n",
       "        text-align: right;\n",
       "    }\n",
       "</style>\n",
       "<table border=\"1\" class=\"dataframe\">\n",
       "  <thead>\n",
       "    <tr style=\"text-align: right;\">\n",
       "      <th>col_0</th>\n",
       "      <th>count</th>\n",
       "    </tr>\n",
       "    <tr>\n",
       "      <th>Prv_Loan_Flag</th>\n",
       "      <th></th>\n",
       "    </tr>\n",
       "  </thead>\n",
       "  <tbody>\n",
       "    <tr>\n",
       "      <th>0</th>\n",
       "      <td>0.172727</td>\n",
       "    </tr>\n",
       "    <tr>\n",
       "      <th>1</th>\n",
       "      <td>0.827273</td>\n",
       "    </tr>\n",
       "  </tbody>\n",
       "</table>\n",
       "</div>"
      ],
      "text/plain": [
       "col_0             count\n",
       "Prv_Loan_Flag          \n",
       "0              0.172727\n",
       "1              0.827273"
      ]
     },
     "execution_count": 136,
     "metadata": {},
     "output_type": "execute_result"
    }
   ],
   "source": [
    "# Previous_Loan_Flag is the next-best predictor variable based on information value\n",
    "#Further segmentation based on Previous Loan Flag which was second best.\n",
    "X_trn_Loan1_76_100 = X_trn_Loan1[X_trn_Loan1[\"Num_txns_Grp\"] == '76-100']\n",
    "\n",
    "#Calculating Proportion of each variable\n",
    "pd.crosstab(X_trn_Loan1_76_100['Prv_Loan_Flag'], columns = 'count', normalize = True)"
   ]
  },
  {
   "cell_type": "markdown",
   "metadata": {},
   "source": [
    "From the above cell, we can see that people who did transactions between 76-100 and have taken previous loan are more likely to purchase loan. We will do futher segmentation on Ang CA txn amount."
   ]
  },
  {
   "cell_type": "code",
   "execution_count": 139,
   "metadata": {},
   "outputs": [
    {
     "data": {
      "text/html": [
       "<div>\n",
       "<style scoped>\n",
       "    .dataframe tbody tr th:only-of-type {\n",
       "        vertical-align: middle;\n",
       "    }\n",
       "\n",
       "    .dataframe tbody tr th {\n",
       "        vertical-align: top;\n",
       "    }\n",
       "\n",
       "    .dataframe thead th {\n",
       "        text-align: right;\n",
       "    }\n",
       "</style>\n",
       "<table border=\"1\" class=\"dataframe\">\n",
       "  <thead>\n",
       "    <tr style=\"text-align: right;\">\n",
       "      <th>col_0</th>\n",
       "      <th>count</th>\n",
       "    </tr>\n",
       "    <tr>\n",
       "      <th>Avg_CA_txn_amt_grp_lbl</th>\n",
       "      <th></th>\n",
       "    </tr>\n",
       "  </thead>\n",
       "  <tbody>\n",
       "    <tr>\n",
       "      <th>1</th>\n",
       "      <td>0.879121</td>\n",
       "    </tr>\n",
       "    <tr>\n",
       "      <th>2</th>\n",
       "      <td>0.065934</td>\n",
       "    </tr>\n",
       "    <tr>\n",
       "      <th>3</th>\n",
       "      <td>0.054945</td>\n",
       "    </tr>\n",
       "  </tbody>\n",
       "</table>\n",
       "</div>"
      ],
      "text/plain": [
       "col_0                      count\n",
       "Avg_CA_txn_amt_grp_lbl          \n",
       "1                       0.879121\n",
       "2                       0.065934\n",
       "3                       0.054945"
      ]
     },
     "execution_count": 139,
     "metadata": {},
     "output_type": "execute_result"
    }
   ],
   "source": [
    "# Avg_CA_txn_Amount_Label is the next-best predictor variable based on information value\n",
    "\n",
    "#X_trn_Loan1_76_100_PrvLoan_Yes = X_trn_Loan1_76_100[X_trn_Loan1_76_100[\"Prv_Loan_Flag\"] == 1]\n",
    "\n",
    "#Calculating Proportion of each variable\n",
    "pd.crosstab(X_trn_Loan1_76_100_PrvLoan_Yes['Avg_CA_txn_amt_grp_lbl'], columns = 'count', normalize = True)"
   ]
  },
  {
   "cell_type": "markdown",
   "metadata": {},
   "source": [
    "From the above cell, we can see that people who did Avg CA txn amount between 1000-2000 and have taken previous loan with 76-100 transactions are more likely to purchase loan. We will do futher segmentation on last transaction amount."
   ]
  },
  {
   "cell_type": "code",
   "execution_count": 161,
   "metadata": {},
   "outputs": [
    {
     "data": {
      "text/plain": [
       "[0.7501-1.0000, 0.5001-0.7500, <0.2500, 0.2501-0.50000]\n",
       "Categories (4, object): [<0.2500 < 0.2501-0.50000 < 0.5001-0.7500 < 0.7501-1.0000]"
      ]
     },
     "execution_count": 161,
     "metadata": {},
     "output_type": "execute_result"
    }
   ],
   "source": [
    "# Lst_Txn_Amt is the next-best predictor variable based on information value\n",
    "\n",
    "X_trn_Loan1_76_100_PrvLoan_Yes_Avg_CA = X_trn_Loan1_76_100_PrvLoan_Yes[X_trn_Loan1_76_100_PrvLoan_Yes['Avg_CA_txn_amt_grp_lbl'] == 1]\n",
    "\n",
    "\n",
    "#Creating category for number of transactions\n",
    "X_trn_Loan1_76_100_PrvLoan_Yes_Avg_CA['Lst_txn_amt_Catg'] = pd.cut(x=X_trn_Loan1_76_100_PrvLoan_Yes_Avg_CA['Lst_txn_amt'], bins=[-0.1000,0.2500, 0.5000, 0.7500, 1.0000], labels=['<0.2500', '0.2501-0.50000', '0.5001-0.7500','0.7501-1.0000'])\n",
    "\n",
    "\n",
    "#Calculating Proportion of each variable\n",
    "pd.crosstab(X_trn_Loan1_76_100_PrvLoan_Yes_Avg_CA['Lst_txn_amt_Catg'], columns = 'count', normalize = True)"
   ]
  },
  {
   "cell_type": "markdown",
   "metadata": {},
   "source": [
    "From the above cell, we can see that people whose Last_amt_txn category is between 0.50001-0.7500 and 0.7501-1.0000 and have taken previous loan with 76-100 transactions are more likely to purchase loan. We will do futher segmentation on bot Lst_txn_amount_categories."
   ]
  },
  {
   "cell_type": "code",
   "execution_count": 154,
   "metadata": {},
   "outputs": [
    {
     "data": {
      "text/html": [
       "<div>\n",
       "<style scoped>\n",
       "    .dataframe tbody tr th:only-of-type {\n",
       "        vertical-align: middle;\n",
       "    }\n",
       "\n",
       "    .dataframe tbody tr th {\n",
       "        vertical-align: top;\n",
       "    }\n",
       "\n",
       "    .dataframe thead th {\n",
       "        text-align: right;\n",
       "    }\n",
       "</style>\n",
       "<table border=\"1\" class=\"dataframe\">\n",
       "  <thead>\n",
       "    <tr style=\"text-align: right;\">\n",
       "      <th>col_0</th>\n",
       "      <th>count</th>\n",
       "    </tr>\n",
       "    <tr>\n",
       "      <th>Prod_Held_Count</th>\n",
       "      <th></th>\n",
       "    </tr>\n",
       "  </thead>\n",
       "  <tbody>\n",
       "    <tr>\n",
       "      <th>1</th>\n",
       "      <td>0.363636</td>\n",
       "    </tr>\n",
       "    <tr>\n",
       "      <th>2</th>\n",
       "      <td>0.090909</td>\n",
       "    </tr>\n",
       "    <tr>\n",
       "      <th>3</th>\n",
       "      <td>0.181818</td>\n",
       "    </tr>\n",
       "    <tr>\n",
       "      <th>4</th>\n",
       "      <td>0.227273</td>\n",
       "    </tr>\n",
       "    <tr>\n",
       "      <th>5</th>\n",
       "      <td>0.136364</td>\n",
       "    </tr>\n",
       "  </tbody>\n",
       "</table>\n",
       "</div>"
      ],
      "text/plain": [
       "col_0               count\n",
       "Prod_Held_Count          \n",
       "1                0.363636\n",
       "2                0.090909\n",
       "3                0.181818\n",
       "4                0.227273\n",
       "5                0.136364"
      ]
     },
     "execution_count": 154,
     "metadata": {},
     "output_type": "execute_result"
    }
   ],
   "source": [
    "# Prod_Held_Count is the next-best predictor variable based on information value\n",
    "\n",
    "X_trn_Loan1_76_100_PrvLoan_Yes_Avg_CA_Lsttxn_50btw75 = X_trn_Loan1_76_100_PrvLoan_Yes_Avg_CA[X_trn_Loan1_76_100_PrvLoan_Yes_Avg_CA['Lst_txn_amt_Catg'] == '0.5001-0.7500']\n",
    "\n",
    "X_trn_Loan1_76_100_PrvLoan_Yes_Avg_CA_Lsttxn_75btw100 = X_trn_Loan1_76_100_PrvLoan_Yes_Avg_CA[X_trn_Loan1_76_100_PrvLoan_Yes_Avg_CA['Lst_txn_amt_Catg'] == '0.7501-1.0000']\n",
    "\n",
    "#Calculating Proportion of each variable\n",
    "\n",
    "pd.crosstab(X_trn_Loan1_76_100_PrvLoan_Yes_Avg_CA_Lsttxn_50btw75['Prod_Held_Count'], columns = 'count', normalize = True)\n",
    "\n",
    "pd.crosstab(X_trn_Loan1_76_100_PrvLoan_Yes_Avg_CA_Lsttxn_75btw100['Prod_Held_Count'], columns = 'count', normalize = True)"
   ]
  },
  {
   "cell_type": "markdown",
   "metadata": {},
   "source": [
    "From the above cell, we can see that people who have 1 product and lies in last txn category of 0.7501-1.000 with an Avg CA txn amount between 1000-2000 having previous Loan with the number of txns between 76-100 is more likely to purchase loan than the person who has 2 products and lies in last txn category of 0.5001-0.7500 with an Avg CA txn amount between 1000-2000 having previous Loan with the number of txns between 76-100."
   ]
  },
  {
   "cell_type": "markdown",
   "metadata": {},
   "source": [
    "#Create categories\n",
    "As we now have different combination of variables and their likelyhood of buying loan. We will divide them into 5 categories based on likelyhood of buying loan, and then apply those categories to test data to create different groups of 2000 individuals\n",
    "\n",
    "The categories are as follows:\n",
    "1. Very High Likelihood\n",
    "2. High Likelihood\n",
    "3. Medium Likelihood\n",
    "4. Low Likelihood\n",
    "5. Very Low Likelihood"
   ]
  },
  {
   "cell_type": "markdown",
   "metadata": {},
   "source": [
    "The division of groups is based on following criteria:\n",
    "1. "
   ]
  },
  {
   "cell_type": "code",
   "execution_count": 166,
   "metadata": {},
   "outputs": [
    {
     "data": {
      "text/plain": [
       "[<0.2500, 0.7501-1.0000, 0.5001-0.7500, 0.2501-0.50000, NaN]\n",
       "Categories (4, object): [<0.2500 < 0.2501-0.50000 < 0.5001-0.7500 < 0.7501-1.0000]"
      ]
     },
     "execution_count": 166,
     "metadata": {},
     "output_type": "execute_result"
    }
   ],
   "source": [
    "#Creating Categories for Num of Txns and Last Txn Amount\n",
    "\n",
    "#Creating category for number of transactions\n",
    "#X_test_final['Num_txns_Grp'] = pd.cut(x=X_test_final['Num_txns'], bins=[-0.10,0.25, 0.50, 0.75, 1.00], labels=['<25', '26-50', '51-75','76-100'])\n",
    "\n",
    "#Creating category for number of transactions\n",
    "X_test_final['Lst_txn_amt_Catg'] = pd.cut(x=X_test_final['Lst_txn_amt'], bins=[-0.1000,0.2500, 0.5000, 0.7500, 1.5000], labels=['<0.2500', '0.2501-0.50000', '0.5001-0.7500','0.7501-1.0000'])\n",
    "X_test_final = X_test_final[X_test_final['Lst_txn_amt_Catg'] != '']\n",
    "X_test_final['Lst_txn_amt_Catg'].unique()"
   ]
  },
  {
   "cell_type": "code",
   "execution_count": null,
   "metadata": {},
   "outputs": [],
   "source": []
  }
 ],
 "metadata": {
  "kernelspec": {
   "display_name": "Python 3",
   "language": "python",
   "name": "python3"
  },
  "language_info": {
   "codemirror_mode": {
    "name": "ipython",
    "version": 3
   },
   "file_extension": ".py",
   "mimetype": "text/x-python",
   "name": "python",
   "nbconvert_exporter": "python",
   "pygments_lexer": "ipython3",
   "version": "3.7.1"
  }
 },
 "nbformat": 4,
 "nbformat_minor": 2
}
